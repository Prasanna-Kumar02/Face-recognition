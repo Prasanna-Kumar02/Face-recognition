{
 "cells": [
  {
   "cell_type": "code",
   "execution_count": 1,
   "metadata": {},
   "outputs": [],
   "source": [
    "# # Modified by J C CHARAN SAI                       #\n",
    "# Original code: http://thecodacus.com/            #\n",
    "# All right reserved to the respective owner       #\n",
    "####################################################\n",
    "\n",
    "# Import OpenCV2 for image processing\n",
    "import cv2\n",
    "import os\n",
    "\n",
    "def assure_path_exists(path):\n",
    "    dir = os.path.dirname(path)\n",
    "    if not os.path.exists(dir):\n",
    "        os.makedirs(dir)\n",
    "\n",
    "# Start capturing video \n",
    "vid_cam = cv2.VideoCapture(0)\n",
    "\n",
    "# Detect object in video stream using LBPcascade Frontal Face\n",
    "face_detector = cv2.CascadeClassifier('haarcascade_frontalface_default.xml')\n",
    "\n",
    "# For each person, one face id\n",
    "face_id = 0\n",
    "\n",
    "# Initialize sample face image\n",
    "count = 0\n",
    "\n",
    "assure_path_exists(\"dataset/\")\n",
    "\n",
    "# Start looping\n",
    "while(True):\n",
    "\n",
    "    # Capture video frame\n",
    "    ret, image_frame = vid_cam.read()\n",
    "\n",
    "    # Convert frame to grayscale\n",
    "    if ret is True:\n",
    "        gray = cv2.cvtColor(image_frame, cv2.COLOR_BGR2GRAY)\n",
    "    else:\n",
    "        continue\n",
    "    # Detect frames of different sizes, list of faces rectangles\n",
    "    faces = face_detector.detectMultiScale(gray, 1.3, 5)\n",
    "\n",
    "    # Loops for each faces\n",
    "    for (x,y,w,h) in faces:\n",
    "\n",
    "        # Crop the image frame into rectangle\n",
    "        cv2.rectangle(image_frame, (x,y), (x+w,y+h), (255,0,0), 2)\n",
    "        \n",
    "        \n",
    "        # Increment sample face image\n",
    "        count += 1\n",
    "        face_id +=1\n",
    "\n",
    "        # Save the captured image into the datasets folder\n",
    "        cv2.imwrite(\"dataset/User.\" + str(face_id) + '.' + str(count) + \".jpg\", gray[y:y+h,x:x+w])\n",
    "\n",
    "        # Display the video frame, with bounded rectangle on the person's face\n",
    "        cv2.imshow('frame', image_frame)\n",
    "\n",
    "    # To stop taking video, press 'q' for at least 100ms\n",
    "    if cv2.waitKey(100) & 0xFF == ord('q'):\n",
    "        break\n",
    "\n",
    "    # If image taken reach 100, stop taking video\n",
    "    elif count>100:\n",
    "        break\n",
    "\n",
    "# Stop video\n",
    "vid_cam.release()\n",
    "\n",
    "# Close all started windows\n",
    "cv2.destroyAllWindows()\n"
   ]
  },
  {
   "cell_type": "code",
   "execution_count": null,
   "metadata": {},
   "outputs": [],
   "source": []
  },
  {
   "cell_type": "code",
   "execution_count": null,
   "metadata": {},
   "outputs": [],
   "source": []
  },
  {
   "cell_type": "code",
   "execution_count": null,
   "metadata": {},
   "outputs": [],
   "source": []
  },
  {
   "cell_type": "code",
   "execution_count": null,
   "metadata": {},
   "outputs": [],
   "source": []
  },
  {
   "cell_type": "code",
   "execution_count": null,
   "metadata": {},
   "outputs": [],
   "source": []
  },
  {
   "cell_type": "code",
   "execution_count": null,
   "metadata": {},
   "outputs": [],
   "source": [
    "import cv2\n",
    "print(cv2.__version__)"
   ]
  },
  {
   "cell_type": "code",
   "execution_count": null,
   "metadata": {},
   "outputs": [],
   "source": [
    "import cv2\n",
    "import webbrowser\n",
    "webbrowser.open('http://192.168.20.8/#viewUser=root&Pwd=iidt@1234')\n"
   ]
  },
  {
   "cell_type": "code",
   "execution_count": null,
   "metadata": {},
   "outputs": [],
   "source": []
  }
 ],
 "metadata": {
  "kernelspec": {
   "display_name": "Python 3",
   "language": "python",
   "name": "python3"
  },
  "language_info": {
   "codemirror_mode": {
    "name": "ipython",
    "version": 3
   },
   "file_extension": ".py",
   "mimetype": "text/x-python",
   "name": "python",
   "nbconvert_exporter": "python",
   "pygments_lexer": "ipython3",
   "version": "3.6.4"
  }
 },
 "nbformat": 4,
 "nbformat_minor": 2
}
